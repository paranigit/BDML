{
 "cells": [
  {
   "cell_type": "code",
   "execution_count": 58,
   "metadata": {},
   "outputs": [],
   "source": [
    "import pandas as pd\n",
    "import numpy as np\n",
    "import scipy.stats\n",
    "\n",
    "from sklearn.model_selection import train_test_split\n",
    "from sklearn.linear_model import LogisticRegression\n",
    "from sklearn.neighbors import KNeighborsClassifier\n",
    "from sklearn.naive_bayes import GaussianNB\n",
    "from sklearn import svm\n",
    "\n",
    "from sklearn import metrics\n",
    "from sklearn.metrics import accuracy_score"
   ]
  },
  {
   "cell_type": "markdown",
   "metadata": {},
   "source": [
    "### Import the data into a dataframe"
   ]
  },
  {
   "cell_type": "code",
   "execution_count": 59,
   "metadata": {},
   "outputs": [],
   "source": [
    "# Read the dataset\n",
    "Ins_df = pd.read_csv(\"CarInsurance-1-1.csv\",index_col=0) "
   ]
  },
  {
   "cell_type": "code",
   "execution_count": 60,
   "metadata": {},
   "outputs": [
    {
     "data": {
      "text/html": [
       "<div>\n",
       "<style scoped>\n",
       "    .dataframe tbody tr th:only-of-type {\n",
       "        vertical-align: middle;\n",
       "    }\n",
       "\n",
       "    .dataframe tbody tr th {\n",
       "        vertical-align: top;\n",
       "    }\n",
       "\n",
       "    .dataframe thead th {\n",
       "        text-align: right;\n",
       "    }\n",
       "</style>\n",
       "<table border=\"1\" class=\"dataframe\">\n",
       "  <thead>\n",
       "    <tr style=\"text-align: right;\">\n",
       "      <th></th>\n",
       "      <th>MOSTYPE</th>\n",
       "      <th>MAANTHUI</th>\n",
       "      <th>MGEMOMV</th>\n",
       "      <th>MGEMLEEF</th>\n",
       "      <th>MOSHOOFD</th>\n",
       "      <th>MGODRK</th>\n",
       "      <th>MGODPR</th>\n",
       "      <th>MGODOV</th>\n",
       "      <th>MGODGE</th>\n",
       "      <th>MRELGE</th>\n",
       "      <th>...</th>\n",
       "      <th>APERSONG</th>\n",
       "      <th>AGEZONG</th>\n",
       "      <th>AWAOREG</th>\n",
       "      <th>ABRAND</th>\n",
       "      <th>AZEILPL</th>\n",
       "      <th>APLEZIER</th>\n",
       "      <th>AFIETS</th>\n",
       "      <th>AINBOED</th>\n",
       "      <th>ABYSTAND</th>\n",
       "      <th>Purchase</th>\n",
       "    </tr>\n",
       "  </thead>\n",
       "  <tbody>\n",
       "    <tr>\n",
       "      <th>1</th>\n",
       "      <td>33</td>\n",
       "      <td>1</td>\n",
       "      <td>3</td>\n",
       "      <td>2</td>\n",
       "      <td>8</td>\n",
       "      <td>0</td>\n",
       "      <td>5</td>\n",
       "      <td>1</td>\n",
       "      <td>3</td>\n",
       "      <td>7</td>\n",
       "      <td>...</td>\n",
       "      <td>0</td>\n",
       "      <td>0</td>\n",
       "      <td>0</td>\n",
       "      <td>1</td>\n",
       "      <td>0</td>\n",
       "      <td>0</td>\n",
       "      <td>0</td>\n",
       "      <td>0</td>\n",
       "      <td>0</td>\n",
       "      <td>No</td>\n",
       "    </tr>\n",
       "    <tr>\n",
       "      <th>2</th>\n",
       "      <td>37</td>\n",
       "      <td>1</td>\n",
       "      <td>2</td>\n",
       "      <td>2</td>\n",
       "      <td>8</td>\n",
       "      <td>1</td>\n",
       "      <td>4</td>\n",
       "      <td>1</td>\n",
       "      <td>4</td>\n",
       "      <td>6</td>\n",
       "      <td>...</td>\n",
       "      <td>0</td>\n",
       "      <td>0</td>\n",
       "      <td>0</td>\n",
       "      <td>1</td>\n",
       "      <td>0</td>\n",
       "      <td>0</td>\n",
       "      <td>0</td>\n",
       "      <td>0</td>\n",
       "      <td>0</td>\n",
       "      <td>No</td>\n",
       "    </tr>\n",
       "    <tr>\n",
       "      <th>3</th>\n",
       "      <td>37</td>\n",
       "      <td>1</td>\n",
       "      <td>2</td>\n",
       "      <td>2</td>\n",
       "      <td>8</td>\n",
       "      <td>0</td>\n",
       "      <td>4</td>\n",
       "      <td>2</td>\n",
       "      <td>4</td>\n",
       "      <td>3</td>\n",
       "      <td>...</td>\n",
       "      <td>0</td>\n",
       "      <td>0</td>\n",
       "      <td>0</td>\n",
       "      <td>1</td>\n",
       "      <td>0</td>\n",
       "      <td>0</td>\n",
       "      <td>0</td>\n",
       "      <td>0</td>\n",
       "      <td>0</td>\n",
       "      <td>No</td>\n",
       "    </tr>\n",
       "    <tr>\n",
       "      <th>4</th>\n",
       "      <td>9</td>\n",
       "      <td>1</td>\n",
       "      <td>3</td>\n",
       "      <td>3</td>\n",
       "      <td>3</td>\n",
       "      <td>2</td>\n",
       "      <td>3</td>\n",
       "      <td>2</td>\n",
       "      <td>4</td>\n",
       "      <td>5</td>\n",
       "      <td>...</td>\n",
       "      <td>0</td>\n",
       "      <td>0</td>\n",
       "      <td>0</td>\n",
       "      <td>1</td>\n",
       "      <td>0</td>\n",
       "      <td>0</td>\n",
       "      <td>0</td>\n",
       "      <td>0</td>\n",
       "      <td>0</td>\n",
       "      <td>No</td>\n",
       "    </tr>\n",
       "    <tr>\n",
       "      <th>5</th>\n",
       "      <td>40</td>\n",
       "      <td>1</td>\n",
       "      <td>4</td>\n",
       "      <td>2</td>\n",
       "      <td>10</td>\n",
       "      <td>1</td>\n",
       "      <td>4</td>\n",
       "      <td>1</td>\n",
       "      <td>4</td>\n",
       "      <td>7</td>\n",
       "      <td>...</td>\n",
       "      <td>0</td>\n",
       "      <td>0</td>\n",
       "      <td>0</td>\n",
       "      <td>1</td>\n",
       "      <td>0</td>\n",
       "      <td>0</td>\n",
       "      <td>0</td>\n",
       "      <td>0</td>\n",
       "      <td>0</td>\n",
       "      <td>No</td>\n",
       "    </tr>\n",
       "  </tbody>\n",
       "</table>\n",
       "<p>5 rows × 86 columns</p>\n",
       "</div>"
      ],
      "text/plain": [
       "   MOSTYPE  MAANTHUI  MGEMOMV  MGEMLEEF  MOSHOOFD  MGODRK  MGODPR  MGODOV  \\\n",
       "1       33         1        3         2         8       0       5       1   \n",
       "2       37         1        2         2         8       1       4       1   \n",
       "3       37         1        2         2         8       0       4       2   \n",
       "4        9         1        3         3         3       2       3       2   \n",
       "5       40         1        4         2        10       1       4       1   \n",
       "\n",
       "   MGODGE  MRELGE    ...     APERSONG  AGEZONG  AWAOREG  ABRAND  AZEILPL  \\\n",
       "1       3       7    ...            0        0        0       1        0   \n",
       "2       4       6    ...            0        0        0       1        0   \n",
       "3       4       3    ...            0        0        0       1        0   \n",
       "4       4       5    ...            0        0        0       1        0   \n",
       "5       4       7    ...            0        0        0       1        0   \n",
       "\n",
       "   APLEZIER  AFIETS  AINBOED  ABYSTAND  Purchase  \n",
       "1         0       0        0         0        No  \n",
       "2         0       0        0         0        No  \n",
       "3         0       0        0         0        No  \n",
       "4         0       0        0         0        No  \n",
       "5         0       0        0         0        No  \n",
       "\n",
       "[5 rows x 86 columns]"
      ]
     },
     "execution_count": 60,
     "metadata": {},
     "output_type": "execute_result"
    }
   ],
   "source": [
    "# Check whether the load is successul?\n",
    "Ins_df.head()"
   ]
  },
  {
   "cell_type": "code",
   "execution_count": 62,
   "metadata": {},
   "outputs": [
    {
     "name": "stdout",
     "output_type": "stream",
     "text": [
      "<class 'pandas.core.frame.DataFrame'>\n",
      "Int64Index: 5822 entries, 1 to 5822\n",
      "Data columns (total 86 columns):\n",
      "MOSTYPE     5822 non-null int64\n",
      "MAANTHUI    5822 non-null int64\n",
      "MGEMOMV     5822 non-null int64\n",
      "MGEMLEEF    5822 non-null int64\n",
      "MOSHOOFD    5822 non-null int64\n",
      "MGODRK      5822 non-null int64\n",
      "MGODPR      5822 non-null int64\n",
      "MGODOV      5822 non-null int64\n",
      "MGODGE      5822 non-null int64\n",
      "MRELGE      5822 non-null int64\n",
      "MRELSA      5822 non-null int64\n",
      "MRELOV      5822 non-null int64\n",
      "MFALLEEN    5822 non-null int64\n",
      "MFGEKIND    5822 non-null int64\n",
      "MFWEKIND    5822 non-null int64\n",
      "MOPLHOOG    5822 non-null int64\n",
      "MOPLMIDD    5822 non-null int64\n",
      "MOPLLAAG    5822 non-null int64\n",
      "MBERHOOG    5822 non-null int64\n",
      "MBERZELF    5822 non-null int64\n",
      "MBERBOER    5822 non-null int64\n",
      "MBERMIDD    5822 non-null int64\n",
      "MBERARBG    5822 non-null int64\n",
      "MBERARBO    5822 non-null int64\n",
      "MSKA        5822 non-null int64\n",
      "MSKB1       5822 non-null int64\n",
      "MSKB2       5822 non-null int64\n",
      "MSKC        5822 non-null int64\n",
      "MSKD        5822 non-null int64\n",
      "MHHUUR      5822 non-null int64\n",
      "MHKOOP      5822 non-null int64\n",
      "MAUT1       5822 non-null int64\n",
      "MAUT2       5822 non-null int64\n",
      "MAUT0       5822 non-null int64\n",
      "MZFONDS     5822 non-null int64\n",
      "MZPART      5822 non-null int64\n",
      "MINKM30     5822 non-null int64\n",
      "MINK3045    5822 non-null int64\n",
      "MINK4575    5822 non-null int64\n",
      "MINK7512    5822 non-null int64\n",
      "MINK123M    5822 non-null int64\n",
      "MINKGEM     5822 non-null int64\n",
      "MKOOPKLA    5822 non-null int64\n",
      "PWAPART     5822 non-null int64\n",
      "PWABEDR     5822 non-null int64\n",
      "PWALAND     5822 non-null int64\n",
      "PPERSAUT    5822 non-null int64\n",
      "PBESAUT     5822 non-null int64\n",
      "PMOTSCO     5822 non-null int64\n",
      "PVRAAUT     5822 non-null int64\n",
      "PAANHANG    5822 non-null int64\n",
      "PTRACTOR    5822 non-null int64\n",
      "PWERKT      5822 non-null int64\n",
      "PBROM       5822 non-null int64\n",
      "PLEVEN      5822 non-null int64\n",
      "PPERSONG    5822 non-null int64\n",
      "PGEZONG     5822 non-null int64\n",
      "PWAOREG     5822 non-null int64\n",
      "PBRAND      5822 non-null int64\n",
      "PZEILPL     5822 non-null int64\n",
      "PPLEZIER    5822 non-null int64\n",
      "PFIETS      5822 non-null int64\n",
      "PINBOED     5822 non-null int64\n",
      "PBYSTAND    5822 non-null int64\n",
      "AWAPART     5822 non-null int64\n",
      "AWABEDR     5822 non-null int64\n",
      "AWALAND     5822 non-null int64\n",
      "APERSAUT    5822 non-null int64\n",
      "ABESAUT     5822 non-null int64\n",
      "AMOTSCO     5822 non-null int64\n",
      "AVRAAUT     5822 non-null int64\n",
      "AAANHANG    5822 non-null int64\n",
      "ATRACTOR    5822 non-null int64\n",
      "AWERKT      5822 non-null int64\n",
      "ABROM       5822 non-null int64\n",
      "ALEVEN      5822 non-null int64\n",
      "APERSONG    5822 non-null int64\n",
      "AGEZONG     5822 non-null int64\n",
      "AWAOREG     5822 non-null int64\n",
      "ABRAND      5822 non-null int64\n",
      "AZEILPL     5822 non-null int64\n",
      "APLEZIER    5822 non-null int64\n",
      "AFIETS      5822 non-null int64\n",
      "AINBOED     5822 non-null int64\n",
      "ABYSTAND    5822 non-null int64\n",
      "Purchase    5822 non-null object\n",
      "dtypes: int64(85), object(1)\n",
      "memory usage: 3.9+ MB\n"
     ]
    }
   ],
   "source": [
    "Ins_df.info()"
   ]
  },
  {
   "cell_type": "markdown",
   "metadata": {},
   "source": [
    "### 1. Separate given ‘carInsurance.csv’ data set into train and test sets "
   ]
  },
  {
   "cell_type": "code",
   "execution_count": 63,
   "metadata": {},
   "outputs": [
    {
     "name": "stdout",
     "output_type": "stream",
     "text": [
      "<class 'numpy.ndarray'>\n",
      "<class 'numpy.ndarray'>\n",
      "[[33  1  3 ...  0  0  0]\n",
      " [37  1  2 ...  0  0  0]\n",
      " [37  1  2 ...  0  0  0]\n",
      " ...\n",
      " [33  1  3 ...  0  0  0]\n",
      " [34  1  3 ...  0  0  0]\n",
      " [33  1  3 ...  0  0  0]]\n",
      "['No' 'No' 'No' ... 'Yes' 'No' 'No']\n"
     ]
    }
   ],
   "source": [
    "X = Ins_df.drop(\"Purchase\",axis=1).values\n",
    "Y = Ins_df[\"Purchase\"].values\n",
    "print(type(X))\n",
    "print(type(Y))\n",
    "print(X)\n",
    "print(Y)"
   ]
  },
  {
   "cell_type": "code",
   "execution_count": 64,
   "metadata": {},
   "outputs": [],
   "source": [
    "# Split 70% train and 30% test\n",
    "test_size = 0.30 # taking 70:30 training and test set\n",
    "seed = 2  # Random numbmer seeding for reapeatability of the code\n",
    "x_train, x_test, y_train, y_test = train_test_split(X, Y, test_size=test_size, random_state=seed)"
   ]
  },
  {
   "cell_type": "code",
   "execution_count": 65,
   "metadata": {},
   "outputs": [
    {
     "name": "stdout",
     "output_type": "stream",
     "text": [
      "(4075, 85)\n",
      "(4075,)\n",
      "(1747, 85)\n",
      "(1747,)\n"
     ]
    }
   ],
   "source": [
    "print(x_train.shape)\n",
    "print(y_train.shape)\n",
    "print(x_test.shape)\n",
    "print(y_test.shape)"
   ]
  },
  {
   "cell_type": "markdown",
   "metadata": {},
   "source": [
    "### 2. Find whether a given individual will buy a car insurance policy or not by using   "
   ]
  },
  {
   "cell_type": "markdown",
   "metadata": {},
   "source": [
    "#### 2.1. Logistic regression"
   ]
  },
  {
   "cell_type": "code",
   "execution_count": 66,
   "metadata": {},
   "outputs": [
    {
     "data": {
      "text/plain": [
       "LogisticRegression(C=1.0, class_weight=None, dual=False, fit_intercept=True,\n",
       "          intercept_scaling=1, max_iter=100, multi_class='ovr', n_jobs=1,\n",
       "          penalty='l2', random_state=None, solver='liblinear', tol=0.0001,\n",
       "          verbose=0, warm_start=False)"
      ]
     },
     "execution_count": 66,
     "metadata": {},
     "output_type": "execute_result"
    }
   ],
   "source": [
    "model = LogisticRegression()\n",
    "model.fit(x_train, y_train)"
   ]
  },
  {
   "cell_type": "code",
   "execution_count": 67,
   "metadata": {},
   "outputs": [],
   "source": [
    "# Predict using Logistic model\n",
    "y_predict_logistic = model.predict(x_test)"
   ]
  },
  {
   "cell_type": "code",
   "execution_count": 68,
   "metadata": {},
   "outputs": [
    {
     "data": {
      "text/plain": [
       "0.9398969662278192"
      ]
     },
     "execution_count": 68,
     "metadata": {},
     "output_type": "execute_result"
    }
   ],
   "source": [
    "acc_log = accuracy_score(y_test,y_predict_logistic)\n",
    "acc_log"
   ]
  },
  {
   "cell_type": "markdown",
   "metadata": {},
   "source": [
    "#### 2.2 Naive Bayes"
   ]
  },
  {
   "cell_type": "code",
   "execution_count": 69,
   "metadata": {},
   "outputs": [],
   "source": [
    "gnb = GaussianNB()"
   ]
  },
  {
   "cell_type": "code",
   "execution_count": 70,
   "metadata": {},
   "outputs": [
    {
     "data": {
      "text/plain": [
       "GaussianNB(priors=None)"
      ]
     },
     "execution_count": 70,
     "metadata": {},
     "output_type": "execute_result"
    }
   ],
   "source": [
    "gnb.fit(x_train, y_train)"
   ]
  },
  {
   "cell_type": "code",
   "execution_count": 71,
   "metadata": {},
   "outputs": [],
   "source": [
    "y_predict_gnb = gnb.predict(x_test)"
   ]
  },
  {
   "cell_type": "code",
   "execution_count": 72,
   "metadata": {},
   "outputs": [
    {
     "data": {
      "text/plain": [
       "0.1877504293073841"
      ]
     },
     "execution_count": 72,
     "metadata": {},
     "output_type": "execute_result"
    }
   ],
   "source": [
    "acc_gnb = accuracy_score(y_test,y_predict_gnb)\n",
    "acc_gnb"
   ]
  },
  {
   "cell_type": "code",
   "execution_count": 73,
   "metadata": {},
   "outputs": [
    {
     "name": "stdout",
     "output_type": "stream",
     "text": [
      "             precision    recall  f1-score   support\n",
      "\n",
      "         No       0.98      0.14      0.24      1645\n",
      "        Yes       0.06      0.96      0.12       102\n",
      "\n",
      "avg / total       0.93      0.19      0.24      1747\n",
      "\n"
     ]
    }
   ],
   "source": [
    "# Calculating Confusion \n",
    "cr=metrics.classification_report(y_test,y_predict_gnb)\n",
    "print(cr)"
   ]
  },
  {
   "cell_type": "markdown",
   "metadata": {},
   "source": [
    "#### 2.3 KNN"
   ]
  },
  {
   "cell_type": "code",
   "execution_count": 74,
   "metadata": {},
   "outputs": [],
   "source": [
    "knn = KNeighborsClassifier(n_neighbors=30, weights ='uniform', metric='euclidean')"
   ]
  },
  {
   "cell_type": "code",
   "execution_count": 75,
   "metadata": {},
   "outputs": [
    {
     "data": {
      "text/plain": [
       "KNeighborsClassifier(algorithm='auto', leaf_size=30, metric='euclidean',\n",
       "           metric_params=None, n_jobs=1, n_neighbors=30, p=2,\n",
       "           weights='uniform')"
      ]
     },
     "execution_count": 75,
     "metadata": {},
     "output_type": "execute_result"
    }
   ],
   "source": [
    "knn.fit(x_train, y_train)"
   ]
  },
  {
   "cell_type": "code",
   "execution_count": 76,
   "metadata": {},
   "outputs": [],
   "source": [
    "y_predict_knn = knn.predict(x_test)"
   ]
  },
  {
   "cell_type": "code",
   "execution_count": 77,
   "metadata": {},
   "outputs": [
    {
     "data": {
      "text/plain": [
       "0.9416141957641672"
      ]
     },
     "execution_count": 77,
     "metadata": {},
     "output_type": "execute_result"
    }
   ],
   "source": [
    "acc_knn = accuracy_score(y_test,y_predict_knn)\n",
    "acc_knn"
   ]
  },
  {
   "cell_type": "markdown",
   "metadata": {},
   "source": [
    "#### 2.4. Support vector machines"
   ]
  },
  {
   "cell_type": "code",
   "execution_count": 78,
   "metadata": {},
   "outputs": [
    {
     "data": {
      "text/plain": [
       "SVC(C=100, cache_size=200, class_weight=None, coef0=0.0,\n",
       "  decision_function_shape='ovr', degree=3, gamma='auto', kernel='linear',\n",
       "  max_iter=-1, probability=False, random_state=None, shrinking=True,\n",
       "  tol=0.001, verbose=False)"
      ]
     },
     "execution_count": 78,
     "metadata": {},
     "output_type": "execute_result"
    }
   ],
   "source": [
    "svm_model = svm.SVC(kernel = 'linear', C = 100)\n",
    "svm_model.fit(x_train, y_train)"
   ]
  },
  {
   "cell_type": "code",
   "execution_count": 79,
   "metadata": {},
   "outputs": [],
   "source": [
    "y_predict_svm = svm_model.predict(x_test)"
   ]
  },
  {
   "cell_type": "code",
   "execution_count": 80,
   "metadata": {},
   "outputs": [
    {
     "data": {
      "text/plain": [
       "0.9416141957641672"
      ]
     },
     "execution_count": 80,
     "metadata": {},
     "output_type": "execute_result"
    }
   ],
   "source": [
    "acc_svm = accuracy_score(y_test,y_predict_svm)\n",
    "acc_svm"
   ]
  },
  {
   "cell_type": "code",
   "execution_count": 81,
   "metadata": {},
   "outputs": [
    {
     "name": "stdout",
     "output_type": "stream",
     "text": [
      "Accuracy by Logistic Reg model: 93.99%\n",
      "Accuracy by GNB model: 18.78%\n",
      "Accuracy by KNN model: 94.16%\n",
      "Accuracy by Support Vector model: 94.16%\n"
     ]
    }
   ],
   "source": [
    "### Summary\n",
    "print (\"Accuracy by Logistic Reg model: {0:.2%}\".format(acc_log))\n",
    "print (\"Accuracy by GNB model: {0:.2%}\".format(acc_gnb))\n",
    "print (\"Accuracy by KNN model: {0:.2%}\".format(acc_knn))\n",
    "print (\"Accuracy by Support Vector model: {0:.2%}\".format(acc_svm))"
   ]
  },
  {
   "cell_type": "markdown",
   "metadata": {},
   "source": [
    "From the above model and accuracy scores, Models based on Logistic Regression, K nearest neighbor and Support Vector are predicting the results with an accuracy of 93% and above. However the model based on Naives Bayes (GNB) predicts very poor with a accuracy score of 18%. The reason behind the poor accuracy is there were no feature selection done on selecting the independent variables for the GNB model to understand the relevance between the Independent variables and Resultant variable. So selecting the relevant variables is very important in boosting the accuracy of classifiers."
   ]
  },
  {
   "cell_type": "code",
   "execution_count": 107,
   "metadata": {},
   "outputs": [
    {
     "data": {
      "text/plain": [
       "39"
      ]
     },
     "execution_count": 107,
     "metadata": {},
     "output_type": "execute_result"
    }
   ],
   "source": [
    "# Lets try to apply Chi Square Test \n",
    "# Below logic is to apply Chi Square Contingency between the 85 Independent Variables Column and Purchase Column\n",
    "# and select only independent variables which has p-value less than 0.01\n",
    "\n",
    "col_list = []\n",
    "\n",
    "for column in Ins_df.drop(\"Purchase\",axis=1):\n",
    "    cont = pd.crosstab(Ins_df[column], Ins_df['Purchase'])\n",
    "    chi_cont = scipy.stats.chi2_contingency(cont)        \n",
    "    if chi_cont[1] <= 0.01:\n",
    "        col_list.append(column)\n",
    "        col_sel = col_sel + 1    \n",
    "    col_cnt = col_cnt + 1\n",
    "    \n",
    "len(col_list)\n",
    "# There are 51 variables which as associated to the Dependent variable."
   ]
  },
  {
   "cell_type": "code",
   "execution_count": 108,
   "metadata": {},
   "outputs": [
    {
     "name": "stdout",
     "output_type": "stream",
     "text": [
      "<class 'pandas.core.frame.DataFrame'>\n",
      "Int64Index: 5822 entries, 1 to 5822\n",
      "Data columns (total 39 columns):\n",
      "MOSTYPE     5822 non-null int64\n",
      "MOSHOOFD    5822 non-null int64\n",
      "MGODPR      5822 non-null int64\n",
      "MRELGE      5822 non-null int64\n",
      "MRELOV      5822 non-null int64\n",
      "MOPLHOOG    5822 non-null int64\n",
      "MOPLLAAG    5822 non-null int64\n",
      "MBERHOOG    5822 non-null int64\n",
      "MBERMIDD    5822 non-null int64\n",
      "MBERARBG    5822 non-null int64\n",
      "MBERARBO    5822 non-null int64\n",
      "MSKA        5822 non-null int64\n",
      "MSKC        5822 non-null int64\n",
      "MSKD        5822 non-null int64\n",
      "MHHUUR      5822 non-null int64\n",
      "MHKOOP      5822 non-null int64\n",
      "MAUT1       5822 non-null int64\n",
      "MAUT0       5822 non-null int64\n",
      "MZFONDS     5822 non-null int64\n",
      "MZPART      5822 non-null int64\n",
      "MINKM30     5822 non-null int64\n",
      "MINK4575    5822 non-null int64\n",
      "MINK7512    5822 non-null int64\n",
      "MINKGEM     5822 non-null int64\n",
      "MKOOPKLA    5822 non-null int64\n",
      "PWAPART     5822 non-null int64\n",
      "PPERSAUT    5822 non-null int64\n",
      "PMOTSCO     5822 non-null int64\n",
      "PGEZONG     5822 non-null int64\n",
      "PBRAND      5822 non-null int64\n",
      "PPLEZIER    5822 non-null int64\n",
      "PBYSTAND    5822 non-null int64\n",
      "AWAPART     5822 non-null int64\n",
      "APERSAUT    5822 non-null int64\n",
      "ABROM       5822 non-null int64\n",
      "ALEVEN      5822 non-null int64\n",
      "ABRAND      5822 non-null int64\n",
      "APLEZIER    5822 non-null int64\n",
      "ABYSTAND    5822 non-null int64\n",
      "dtypes: int64(39)\n",
      "memory usage: 1.8 MB\n"
     ]
    }
   ],
   "source": [
    "# Select only 51 columns from the master dataframe\n",
    "Ins_df_gnb = Ins_df[col_list]\n",
    "Ins_df_gnb.info()"
   ]
  },
  {
   "cell_type": "code",
   "execution_count": 101,
   "metadata": {},
   "outputs": [],
   "source": [
    "X2 = Ins_df_gnb.values\n",
    "Y2 = Ins_df['Purchase'].values"
   ]
  },
  {
   "cell_type": "code",
   "execution_count": 102,
   "metadata": {},
   "outputs": [],
   "source": [
    "# Split 70% train and 30% test\n",
    "test_size = 0.30 # taking 70:30 training and test set\n",
    "seed = 10  # Random numbmer seeding for reapeatability of the code\n",
    "x2_train, x2_test, y2_train, y2_test = train_test_split(X2, Y2, test_size=test_size, random_state=seed)"
   ]
  },
  {
   "cell_type": "code",
   "execution_count": 103,
   "metadata": {},
   "outputs": [],
   "source": [
    "gnb2 = GaussianNB()"
   ]
  },
  {
   "cell_type": "code",
   "execution_count": 104,
   "metadata": {},
   "outputs": [
    {
     "data": {
      "text/plain": [
       "GaussianNB(priors=None)"
      ]
     },
     "execution_count": 104,
     "metadata": {},
     "output_type": "execute_result"
    }
   ],
   "source": [
    "gnb2.fit(x2_train, y2_train)"
   ]
  },
  {
   "cell_type": "code",
   "execution_count": 105,
   "metadata": {},
   "outputs": [],
   "source": [
    "y_predict_gnb2 = gnb2.predict(x2_test)"
   ]
  },
  {
   "cell_type": "code",
   "execution_count": 106,
   "metadata": {},
   "outputs": [
    {
     "data": {
      "text/plain": [
       "0.8746422438465942"
      ]
     },
     "execution_count": 106,
     "metadata": {},
     "output_type": "execute_result"
    }
   ],
   "source": [
    "accuracy_score(y2_test,y_predict_gnb2)"
   ]
  },
  {
   "cell_type": "markdown",
   "metadata": {},
   "source": [
    "### Conclusion\n",
    "After applything Chi Square Contingency Test to select the Independent variables based on p-value (selected columns with chi square p-value less than 0.01), the accuracy has been improved a lot from 17% to 87%. It indicates the importance of doing the feature selection before apply any models for prediction."
   ]
  }
 ],
 "metadata": {
  "kernelspec": {
   "display_name": "Python 3",
   "language": "python",
   "name": "python3"
  },
  "language_info": {
   "codemirror_mode": {
    "name": "ipython",
    "version": 3
   },
   "file_extension": ".py",
   "mimetype": "text/x-python",
   "name": "python",
   "nbconvert_exporter": "python",
   "pygments_lexer": "ipython3",
   "version": "3.6.5"
  }
 },
 "nbformat": 4,
 "nbformat_minor": 2
}
