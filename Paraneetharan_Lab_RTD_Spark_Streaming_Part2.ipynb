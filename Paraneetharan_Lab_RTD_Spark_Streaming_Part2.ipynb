{
 "cells": [
  {
   "cell_type": "markdown",
   "metadata": {},
   "source": [
    "### Real Time Data Analytics | Lab\n",
    "Submitted by <b> Paraneetharan M</b>"
   ]
  },
  {
   "cell_type": "markdown",
   "metadata": {},
   "source": [
    "## Part 2: Socket conn to send Quadrant points (x,y) randomly"
   ]
  },
  {
   "cell_type": "code",
   "execution_count": 98,
   "metadata": {
    "collapsed": true
   },
   "outputs": [],
   "source": [
    "import socket, sys, threading\n",
    "from random import randint"
   ]
  },
  {
   "cell_type": "code",
   "execution_count": 101,
   "metadata": {
    "collapsed": true
   },
   "outputs": [],
   "source": [
    "host = 'localhost'\n",
    "port = 6767"
   ]
  },
  {
   "cell_type": "code",
   "execution_count": 154,
   "metadata": {},
   "outputs": [
    {
     "name": "stdout",
     "output_type": "stream",
     "text": [
      "Listening on port: 6767\n"
     ]
    }
   ],
   "source": [
    "skt = socket.socket()\n",
    "skt.bind((host, port))        # Bind to the port 6767\n",
    "print(\"Listening on port: %s\" % str(port))"
   ]
  },
  {
   "cell_type": "code",
   "execution_count": 155,
   "metadata": {},
   "outputs": [
    {
     "name": "stdout",
     "output_type": "stream",
     "text": [
      "Received request from: ('127.0.0.1', 50394)\n"
     ]
    }
   ],
   "source": [
    "skt.listen(5)                 # Now wait for client connection.\n",
    "c, addr = skt.accept()        # Establish connection with client.\n",
    "print( \"Received request from: \" + str( addr ) )"
   ]
  },
  {
   "cell_type": "code",
   "execution_count": 156,
   "metadata": {
    "collapsed": true
   },
   "outputs": [],
   "source": [
    "# Func to generate Quadrant values (x,y) Randomly\n",
    "# It sends value for x and y between -9 to +9 randomly\n",
    "def QuadGen():\n",
    "    try:\n",
    "        quad = (randint(-9, 9),randint(-9, 9))\n",
    "        print('Sending to socket ',quad)\n",
    "        c.send(str(quad).encode(\"ascii\"))\n",
    "        c.send('\\n'.encode(\"ascii\"))\n",
    "        threading.Timer(2.0, QuadGen).start()\n",
    "    except KeyboardInterrupt:\n",
    "        skt.close()\n",
    "        sys.exit(0)\n",
    "    except BrokenPipeError:\n",
    "        print(\"Client has stopped listening - Closing connection.\")\n",
    "        skt.close()\n",
    "        sys.exit(0)"
   ]
  },
  {
   "cell_type": "code",
   "execution_count": 157,
   "metadata": {},
   "outputs": [
    {
     "name": "stdout",
     "output_type": "stream",
     "text": [
      "Sending to socket  (-1, -5)\n",
      "Sending to socket  (-4, 8)\n",
      "Sending to socket  (6, 8)\n",
      "Sending to socket  (-5, -5)\n",
      "Sending to socket  (-7, 3)\n",
      "Sending to socket  (-6, 2)\n",
      "Sending to socket  (4, -3)\n",
      "Sending to socket  (8, -3)\n",
      "Sending to socket  (0, 1)\n",
      "Sending to socket  (-4, -9)\n",
      "Sending to socket  (-6, -5)\n",
      "Sending to socket  (7, 0)\n",
      "Sending to socket  (-3, -2)\n",
      "Sending to socket  (-1, -6)\n",
      "Sending to socket  (1, 3)\n",
      "Sending to socket  (7, 2)\n",
      "Sending to socket  (1, 5)\n",
      "Sending to socket  (4, -6)\n",
      "Sending to socket  (6, 4)\n",
      "Sending to socket  (-5, 7)\n",
      "Sending to socket  (1, -4)\n",
      "Sending to socket  (8, 1)\n",
      "Sending to socket  (-9, 9)\n",
      "Sending to socket  (-5, 6)\n",
      "Sending to socket  (-4, -8)\n",
      "Sending to socket  (-6, -9)\n",
      "Sending to socket  (3, 4)\n",
      "Sending to socket  (7, -8)\n",
      "Sending to socket  (3, 5)\n",
      "Sending to socket  (-3, 9)\n",
      "Sending to socket  (8, -9)\n",
      "Sending to socket  (3, -8)\n",
      "Sending to socket  (0, 5)\n",
      "Sending to socket  (6, -3)\n",
      "Sending to socket  (-3, -6)\n",
      "Sending to socket  (-6, -2)\n",
      "Sending to socket  (-1, 9)\n",
      "Sending to socket  (0, -1)\n",
      "Sending to socket  (5, -4)\n",
      "Sending to socket  (6, -4)\n",
      "Sending to socket  (-6, -8)\n",
      "Sending to socket  (8, 4)\n",
      "Sending to socket  (5, 1)\n",
      "Sending to socket  (6, -1)\n",
      "Sending to socket  (-5, -4)\n",
      "Sending to socket  (6, -2)\n",
      "Sending to socket  (6, 3)\n",
      "Sending to socket  (4, -6)\n",
      "Sending to socket  (0, -1)\n",
      "Sending to socket  (-9, 6)\n",
      "Sending to socket  (-9, 2)\n",
      "Sending to socket  (-1, 4)\n",
      "Sending to socket  (-4, -9)\n",
      "Sending to socket  (-7, 0)\n",
      "Sending to socket  (-6, -4)\n",
      "Sending to socket  (8, 2)\n",
      "Sending to socket  (-8, 1)\n",
      "Sending to socket  (-3, 9)\n",
      "Sending to socket  (-6, 5)\n",
      "Sending to socket  (-8, -5)\n",
      "Sending to socket  (1, 3)\n",
      "Sending to socket  (5, -8)\n",
      "Sending to socket  (1, -3)\n",
      "Sending to socket  (2, 2)\n",
      "Sending to socket  (7, -1)\n",
      "Sending to socket  (3, -1)\n",
      "Sending to socket  (-5, -1)\n",
      "Sending to socket  (7, 8)\n",
      "Sending to socket  (-8, 6)\n",
      "Sending to socket  (4, -2)\n",
      "Sending to socket  (-2, -7)\n",
      "Client has stopped listening - Closing connection.\n"
     ]
    }
   ],
   "source": [
    "QuadGen()"
   ]
  },
  {
   "cell_type": "code",
   "execution_count": null,
   "metadata": {
    "collapsed": true
   },
   "outputs": [],
   "source": []
  }
 ],
 "metadata": {
  "kernelspec": {
   "display_name": "Python 3",
   "language": "python",
   "name": "python3"
  },
  "language_info": {
   "codemirror_mode": {
    "name": "ipython",
    "version": 3
   },
   "file_extension": ".py",
   "mimetype": "text/x-python",
   "name": "python",
   "nbconvert_exporter": "python",
   "pygments_lexer": "ipython3",
   "version": "3.6.3"
  }
 },
 "nbformat": 4,
 "nbformat_minor": 2
}
